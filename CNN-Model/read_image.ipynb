{
 "cells": [
  {
   "cell_type": "code",
   "execution_count": 2,
   "metadata": {},
   "outputs": [],
   "source": [
    "#use os.rename to movefiles to a new dir or delete file from current dir\n",
    "#use os.remove to remove the current file\n",
    "img_dir=\"candidate_val\"\n",
    "\n",
    "new_img_dir=\"candidate_test\"\n",
    "\n",
    "from PIL import Image\n",
    "import os,time\n",
    "\n",
    "\n",
    "def verify_image(img_file):\n",
    "     #test if the image can be read\n",
    "    try:\n",
    "        v_image = Image.open(img_file)\n",
    "        v_image.verify()\n",
    "        return True;\n",
    "    except OSError:\n",
    "        return False;\n",
    "#main script\n",
    "for root, dirs, files in os.walk(img_dir): \n",
    "    count = 0\n",
    "    for file in files:\n",
    "        if file.endswith(\".jpg\") or file.endswith(\".JPEG\")or file.endswith(\".jpeg\"):\n",
    "            currentFile=os.path.join(root, file)\n",
    "            count=count+1\n",
    "            if verify_image(currentFile) and count<10:\n",
    "                dirname = root.split(os.path.sep)[-1]\n",
    "                new_file_name = os.path.join(new_img_dir,dirname,file)\n",
    "                #os.remove(currentFile)\n",
    "                os.rename(currentFile,new_file_name)\n",
    "            elif verify_image(currentFile) and count>=10:\n",
    "                #os.remove(currentFile)\n",
    "                continue\n",
    "            else:\n",
    "                #remove the current flie if the image is crupted\n",
    "                os.remove(currentFile)\n",
    "                "
   ]
  }
 ],
 "metadata": {
  "kernelspec": {
   "display_name": "Python 3",
   "language": "python",
   "name": "python3"
  },
  "language_info": {
   "codemirror_mode": {
    "name": "ipython",
    "version": 3
   },
   "file_extension": ".py",
   "mimetype": "text/x-python",
   "name": "python",
   "nbconvert_exporter": "python",
   "pygments_lexer": "ipython3",
   "version": "3.6.8"
  }
 },
 "nbformat": 4,
 "nbformat_minor": 2
}
