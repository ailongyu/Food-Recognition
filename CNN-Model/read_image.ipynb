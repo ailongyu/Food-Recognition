{
 "cells": [
  {
   "cell_type": "code",
   "execution_count": 2,
   "metadata": {},
   "outputs": [],
   "source": [
    "#movefiles to a new dir or delete file from current dir\n",
    "img_dir=\"candidate_val\"\n",
    "\n",
    "new_img_dir=\"candidate_test\"\n",
    "\n",
    "from PIL import Image\n",
    "import os,time\n",
    "\n",
    "\n",
    "def verify_image(img_file):\n",
    "     #test image\n",
    "    try:\n",
    "        v_image = Image.open(img_file)\n",
    "        v_image.verify()\n",
    "        return True;\n",
    "        #is valid\n",
    "        #print(\"valid file: \"+img_file)\n",
    "    except OSError:\n",
    "        return False;\n",
    "#main script\n",
    "for root, dirs, files in os.walk(img_dir): \n",
    "    count = 0\n",
    "    for file in files:\n",
    "        if file.endswith(\".jpg\") or file.endswith(\".JPEG\")or file.endswith(\".jpeg\"):\n",
    "            currentFile=os.path.join(root, file)\n",
    "            count=count+1\n",
    "            #test image\n",
    "            if verify_image(currentFile) and count<10:\n",
    "                dirname = root.split(os.path.sep)[-1]\n",
    "                new_file_name = os.path.join(new_img_dir,dirname,file)\n",
    "                #print(new_file_name)\n",
    "                #print(count)\n",
    "                #print(files)\n",
    "                #print(file)\n",
    "                #print(currentFile)\n",
    "                #os.remove(currentFile)\n",
    "                os.rename(currentFile,new_file_name)\n",
    "                #print(\"good file, moving to dir: \"+new_file_name)\n",
    "                #try:\n",
    "                    #os.rename(currentFile, new_file_name)\n",
    "                #except WindowsError:\n",
    "                    #print(\"error moving file\")\n",
    "                #continue\n",
    "            elif verify_image(currentFile) and count>=10:\n",
    "                #os.remove(currentFile)\n",
    "                continue\n",
    "            else:\n",
    "                #Move to corrupt folder\n",
    "                #makefilename unique\n",
    "                new_file_name=corrupt_img_dir+time.strftime(\"%Y%m%d%H%M%S_\"+os.path.basename(currentFile))\n",
    "                print(\"corrupt file\")\n",
    "                try:\n",
    "                    os.rename(currentFile, new_file_name)\n",
    "                except WindowsError:\n",
    "                    print(\"error moving file\")\n",
    "                "
   ]
  },
  {
   "cell_type": "code",
   "execution_count": null,
   "metadata": {},
   "outputs": [],
   "source": []
  },
  {
   "cell_type": "code",
   "execution_count": null,
   "metadata": {},
   "outputs": [],
   "source": []
  }
 ],
 "metadata": {
  "kernelspec": {
   "display_name": "Python 3",
   "language": "python",
   "name": "python3"
  },
  "language_info": {
   "codemirror_mode": {
    "name": "ipython",
    "version": 3
   },
   "file_extension": ".py",
   "mimetype": "text/x-python",
   "name": "python",
   "nbconvert_exporter": "python",
   "pygments_lexer": "ipython3",
   "version": "3.6.8"
  }
 },
 "nbformat": 4,
 "nbformat_minor": 2
}
