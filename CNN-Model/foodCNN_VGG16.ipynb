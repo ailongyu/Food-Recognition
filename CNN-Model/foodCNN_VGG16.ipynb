{
 "cells": [
  {
   "cell_type": "code",
   "execution_count": 1,
   "metadata": {},
   "outputs": [],
   "source": [
    "import tensorflow as tf\n",
    "from tensorflow.keras.applications import VGG16\n",
    "#from tensorflow.keras.applications.inception_v3 import InceptionV3\n",
    " \n",
    "vgg_conv = VGG16(weights='imagenet',\n",
    "                  include_top=False,\n",
    "                  input_shape=(224, 224, 3))"
   ]
  },
  {
   "cell_type": "code",
   "execution_count": 2,
   "metadata": {},
   "outputs": [
    {
     "name": "stdout",
     "output_type": "stream",
     "text": [
      "Found 7996 images belonging to 19 classes.\n",
      "Found 1889 images belonging to 19 classes.\n"
     ]
    }
   ],
   "source": [
    "DATADIR = 'vegetables'\n",
    "TESTDIR = 'vegetables_test'\n",
    "\n",
    "IMAGE_SIZE = 224\n",
    "BATCH_SIZE = 64\n",
    "\n",
    "traindatagen = tf.keras.preprocessing.image.ImageDataGenerator(\n",
    "    width_shift_range=0.2,\n",
    "    height_shift_range=0.2,\n",
    "    horizontal_flip=True,\n",
    "    rotation_range=30,\n",
    "    zoom_range=[.8, 1],\n",
    "    rescale=1./255)\n",
    "\n",
    "testdatagen = tf.keras.preprocessing.image.ImageDataGenerator(\n",
    "    rescale=1./255)\n",
    "\n",
    "train_generator = traindatagen.flow_from_directory(\n",
    "    DATADIR,\n",
    "    target_size=(IMAGE_SIZE, IMAGE_SIZE),\n",
    "    batch_size=BATCH_SIZE)\n",
    "\n",
    "val_generator = testdatagen.flow_from_directory(\n",
    "    TESTDIR,\n",
    "    target_size=(IMAGE_SIZE, IMAGE_SIZE),\n",
    "    batch_size=BATCH_SIZE,\n",
    "    shuffle='False')"
   ]
  },
  {
   "cell_type": "code",
   "execution_count": 3,
   "metadata": {},
   "outputs": [],
   "source": [
    "for layer in vgg_conv.layers:\n",
    "    layer.trainable = False"
   ]
  },
  {
   "cell_type": "code",
   "execution_count": 4,
   "metadata": {},
   "outputs": [
    {
     "name": "stdout",
     "output_type": "stream",
     "text": [
      "Model: \"sequential\"\n",
      "_________________________________________________________________\n",
      "Layer (type)                 Output Shape              Param #   \n",
      "=================================================================\n",
      "vgg16 (Model)                (None, 7, 7, 512)         14714688  \n",
      "_________________________________________________________________\n",
      "average_pooling2d (AveragePo (None, 3, 3, 512)         0         \n",
      "_________________________________________________________________\n",
      "dropout (Dropout)            (None, 3, 3, 512)         0         \n",
      "_________________________________________________________________\n",
      "flatten (Flatten)            (None, 4608)              0         \n",
      "_________________________________________________________________\n",
      "dense (Dense)                (None, 512)               2359808   \n",
      "_________________________________________________________________\n",
      "dropout_1 (Dropout)          (None, 512)               0         \n",
      "_________________________________________________________________\n",
      "dense_1 (Dense)              (None, 19)                9747      \n",
      "=================================================================\n",
      "Total params: 17,084,243\n",
      "Trainable params: 2,369,555\n",
      "Non-trainable params: 14,714,688\n",
      "_________________________________________________________________\n"
     ]
    }
   ],
   "source": [
    "from tensorflow.keras import models\n",
    "from tensorflow.keras import layers\n",
    "from tensorflow.keras import optimizers\n",
    " \n",
    "# Create the model\n",
    "model = models.Sequential()\n",
    " \n",
    "# Add the vgg convolutional base model\n",
    "model.add(vgg_conv)\n",
    " \n",
    "# Add new layers\n",
    "model.add(layers.AveragePooling2D())\n",
    "model.add(layers.Dropout(0.5))\n",
    "model.add(layers.Flatten())\n",
    "model.add(layers.Dense(512, activation='relu'))\n",
    "model.add(layers.Dropout(0.3))\n",
    "model.add(layers.Dense(19, activation='softmax'))\n",
    " \n",
    "# Show a summary of the model. Check the number of trainable parameters\n",
    "model.summary()"
   ]
  },
  {
   "cell_type": "code",
   "execution_count": 5,
   "metadata": {},
   "outputs": [],
   "source": [
    "model.compile(optimizer=tf.keras.optimizers.Adam(), \n",
    "              loss='categorical_crossentropy', \n",
    "              metrics=['accuracy'])"
   ]
  },
  {
   "cell_type": "code",
   "execution_count": 6,
   "metadata": {},
   "outputs": [
    {
     "name": "stdout",
     "output_type": "stream",
     "text": [
      "Epoch 1/5\n"
     ]
    },
    {
     "name": "stderr",
     "output_type": "stream",
     "text": [
      "WARNING: Logging before flag parsing goes to stderr.\n",
      "W0527 00:06:30.662749 12976 deprecation.py:323] From D:\\Software\\Anaconda\\envs\\tf_gpu_nightly\\lib\\site-packages\\tensorflow\\python\\ops\\math_grad.py:1250: add_dispatch_support.<locals>.wrapper (from tensorflow.python.ops.array_ops) is deprecated and will be removed in a future version.\n",
      "Instructions for updating:\n",
      "Use tf.where in 2.0, which has the same broadcast rule as np.where\n"
     ]
    },
    {
     "name": "stdout",
     "output_type": "stream",
     "text": [
      "125/125 [==============================] - 189s 2s/step - loss: 1.9424 - accuracy: 0.3982 - val_loss: 1.1687 - val_accuracy: 0.6384\n",
      "Epoch 2/5\n",
      "125/125 [==============================] - 160s 1s/step - loss: 1.2685 - accuracy: 0.5944 - val_loss: 0.9550 - val_accuracy: 0.7088\n",
      "Epoch 3/5\n",
      "125/125 [==============================] - 160s 1s/step - loss: 1.1101 - accuracy: 0.6407 - val_loss: 0.9014 - val_accuracy: 0.7136\n",
      "Epoch 4/5\n",
      "125/125 [==============================] - 159s 1s/step - loss: 1.0548 - accuracy: 0.6627 - val_loss: 0.8485 - val_accuracy: 0.7300\n",
      "Epoch 5/5\n",
      "125/125 [==============================] - 166s 1s/step - loss: 1.0228 - accuracy: 0.6743 - val_loss: 0.7779 - val_accuracy: 0.7597\n"
     ]
    }
   ],
   "source": [
    "epochs = 5\n",
    "\n",
    "history = model.fit(train_generator, epochs=epochs, validation_data=val_generator)\n"
   ]
  },
  {
   "cell_type": "code",
   "execution_count": 7,
   "metadata": {},
   "outputs": [
    {
     "name": "stdout",
     "output_type": "stream",
     "text": [
      "<tensorflow.python.keras.engine.input_layer.InputLayer object at 0x000001C735884780> False\n",
      "<tensorflow.python.keras.layers.convolutional.Conv2D object at 0x000001C758354A90> False\n",
      "<tensorflow.python.keras.layers.convolutional.Conv2D object at 0x000001C758354C50> False\n",
      "<tensorflow.python.keras.layers.pooling.MaxPooling2D object at 0x000001C758372F98> False\n",
      "<tensorflow.python.keras.layers.convolutional.Conv2D object at 0x000001C7583AAFD0> False\n",
      "<tensorflow.python.keras.layers.convolutional.Conv2D object at 0x000001C7583C3D30> False\n",
      "<tensorflow.python.keras.layers.pooling.MaxPooling2D object at 0x000001C7584C77F0> False\n",
      "<tensorflow.python.keras.layers.convolutional.Conv2D object at 0x000001C7584D1B70> False\n",
      "<tensorflow.python.keras.layers.convolutional.Conv2D object at 0x000001C7584E7E48> False\n",
      "<tensorflow.python.keras.layers.convolutional.Conv2D object at 0x000001C7584FA320> False\n",
      "<tensorflow.python.keras.layers.pooling.MaxPooling2D object at 0x000001C7585105C0> False\n",
      "<tensorflow.python.keras.layers.convolutional.Conv2D object at 0x000001C75851D978> False\n",
      "<tensorflow.python.keras.layers.convolutional.Conv2D object at 0x000001C758529C18> False\n",
      "<tensorflow.python.keras.layers.convolutional.Conv2D object at 0x000001C75853EEB8> False\n",
      "<tensorflow.python.keras.layers.pooling.MaxPooling2D object at 0x000001C8EEBA5390> False\n",
      "<tensorflow.python.keras.layers.convolutional.Conv2D object at 0x000001C8EEBBA748> True\n",
      "<tensorflow.python.keras.layers.convolutional.Conv2D object at 0x000001C8EEBC49E8> True\n",
      "<tensorflow.python.keras.layers.convolutional.Conv2D object at 0x000001C8EEBD8C88> True\n",
      "<tensorflow.python.keras.layers.pooling.MaxPooling2D object at 0x000001C8EEBECF28> True\n"
     ]
    }
   ],
   "source": [
    "vgg_conv.trainable = True\n",
    "for layer in vgg_conv.layers[:-4]:\n",
    "    layer.trainable = False\n",
    "\n",
    "for layer in vgg_conv.layers:\n",
    "    print(layer, layer.trainable)"
   ]
  },
  {
   "cell_type": "code",
   "execution_count": 8,
   "metadata": {},
   "outputs": [
    {
     "name": "stdout",
     "output_type": "stream",
     "text": [
      "Model: \"sequential\"\n",
      "_________________________________________________________________\n",
      "Layer (type)                 Output Shape              Param #   \n",
      "=================================================================\n",
      "vgg16 (Model)                (None, 7, 7, 512)         14714688  \n",
      "_________________________________________________________________\n",
      "average_pooling2d (AveragePo (None, 3, 3, 512)         0         \n",
      "_________________________________________________________________\n",
      "dropout (Dropout)            (None, 3, 3, 512)         0         \n",
      "_________________________________________________________________\n",
      "flatten (Flatten)            (None, 4608)              0         \n",
      "_________________________________________________________________\n",
      "dense (Dense)                (None, 512)               2359808   \n",
      "_________________________________________________________________\n",
      "dropout_1 (Dropout)          (None, 512)               0         \n",
      "_________________________________________________________________\n",
      "dense_1 (Dense)              (None, 19)                9747      \n",
      "=================================================================\n",
      "Total params: 17,084,243\n",
      "Trainable params: 9,448,979\n",
      "Non-trainable params: 7,635,264\n",
      "_________________________________________________________________\n"
     ]
    }
   ],
   "source": [
    "model.compile(loss='categorical_crossentropy',\n",
    "              optimizer = tf.keras.optimizers.Adam(0.0001),\n",
    "              metrics=['accuracy'])\n",
    "filepath=\"VGG16_model.best.hdf5\"\n",
    "checkpoint = tf.keras.callbacks.ModelCheckpoint(filepath, monitor='val_accuracy', verbose=1, save_best_only=True, mode='max')\n",
    "model.summary()"
   ]
  },
  {
   "cell_type": "code",
   "execution_count": 9,
   "metadata": {},
   "outputs": [
    {
     "name": "stdout",
     "output_type": "stream",
     "text": [
      "Epoch 1/20\n",
      "124/125 [============================>.] - ETA: 1s - loss: 0.7999 - accuracy: 0.7485\n",
      "Epoch 00001: val_accuracy improved from -inf to 0.80572, saving model to VGG16_model.best.hdf5\n",
      "125/125 [==============================] - 176s 1s/step - loss: 0.7972 - accuracy: 0.7494 - val_loss: 0.6113 - val_accuracy: 0.8057\n",
      "Epoch 2/20\n",
      "124/125 [============================>.] - ETA: 1s - loss: 0.5379 - accuracy: 0.8282\n",
      "Epoch 00002: val_accuracy improved from 0.80572 to 0.82901, saving model to VGG16_model.best.hdf5\n",
      "125/125 [==============================] - 163s 1s/step - loss: 0.5393 - accuracy: 0.8277 - val_loss: 0.5357 - val_accuracy: 0.8290\n",
      "Epoch 3/20\n",
      "124/125 [============================>.] - ETA: 1s - loss: 0.4451 - accuracy: 0.8589\n",
      "Epoch 00003: val_accuracy improved from 0.82901 to 0.85601, saving model to VGG16_model.best.hdf5\n",
      "125/125 [==============================] - 162s 1s/step - loss: 0.4434 - accuracy: 0.8593 - val_loss: 0.4896 - val_accuracy: 0.8560\n",
      "Epoch 4/20\n",
      "124/125 [============================>.] - ETA: 1s - loss: 0.3621 - accuracy: 0.8829\n",
      "Epoch 00004: val_accuracy improved from 0.85601 to 0.87083, saving model to VGG16_model.best.hdf5\n",
      "125/125 [==============================] - 165s 1s/step - loss: 0.3619 - accuracy: 0.8828 - val_loss: 0.4295 - val_accuracy: 0.8708\n",
      "Epoch 5/20\n",
      "124/125 [============================>.] - ETA: 1s - loss: 0.3154 - accuracy: 0.9007\n",
      "Epoch 00005: val_accuracy improved from 0.87083 to 0.87983, saving model to VGG16_model.best.hdf5\n",
      "125/125 [==============================] - 162s 1s/step - loss: 0.3160 - accuracy: 0.9006 - val_loss: 0.4120 - val_accuracy: 0.8798\n",
      "Epoch 6/20\n",
      "124/125 [============================>.] - ETA: 1s - loss: 0.2892 - accuracy: 0.9042\n",
      "Epoch 00006: val_accuracy did not improve from 0.87983\n",
      "125/125 [==============================] - 161s 1s/step - loss: 0.2887 - accuracy: 0.9045 - val_loss: 0.4636 - val_accuracy: 0.8687\n",
      "Epoch 7/20\n",
      "124/125 [============================>.] - ETA: 1s - loss: 0.2477 - accuracy: 0.9206\n",
      "Epoch 00007: val_accuracy improved from 0.87983 to 0.89359, saving model to VGG16_model.best.hdf5\n",
      "125/125 [==============================] - 161s 1s/step - loss: 0.2468 - accuracy: 0.9205 - val_loss: 0.4213 - val_accuracy: 0.8936\n",
      "Epoch 8/20\n",
      "124/125 [============================>.] - ETA: 1s - loss: 0.2107 - accuracy: 0.9314\n",
      "Epoch 00008: val_accuracy did not improve from 0.89359\n",
      "125/125 [==============================] - 163s 1s/step - loss: 0.2100 - accuracy: 0.9315 - val_loss: 0.4425 - val_accuracy: 0.8809\n",
      "Epoch 9/20\n",
      "124/125 [============================>.] - ETA: 1s - loss: 0.2020 - accuracy: 0.9360\n",
      "Epoch 00009: val_accuracy improved from 0.89359 to 0.89518, saving model to VGG16_model.best.hdf5\n",
      "125/125 [==============================] - 163s 1s/step - loss: 0.2016 - accuracy: 0.9360 - val_loss: 0.4115 - val_accuracy: 0.8952\n",
      "Epoch 10/20\n",
      "124/125 [============================>.] - ETA: 1s - loss: 0.1675 - accuracy: 0.9426\n",
      "Epoch 00010: val_accuracy improved from 0.89518 to 0.89571, saving model to VGG16_model.best.hdf5\n",
      "125/125 [==============================] - 167s 1s/step - loss: 0.1682 - accuracy: 0.9426 - val_loss: 0.4170 - val_accuracy: 0.8957\n",
      "Epoch 11/20\n",
      "124/125 [============================>.] - ETA: 1s - loss: 0.1645 - accuracy: 0.9438\n",
      "Epoch 00011: val_accuracy did not improve from 0.89571\n",
      "125/125 [==============================] - 166s 1s/step - loss: 0.1657 - accuracy: 0.9435 - val_loss: 0.4336 - val_accuracy: 0.8878\n",
      "Epoch 12/20\n",
      "124/125 [============================>.] - ETA: 1s - loss: 0.1588 - accuracy: 0.9464\n",
      "Epoch 00012: val_accuracy did not improve from 0.89571\n",
      "125/125 [==============================] - 163s 1s/step - loss: 0.1585 - accuracy: 0.9466 - val_loss: 0.4170 - val_accuracy: 0.8835\n",
      "Epoch 13/20\n",
      "124/125 [============================>.] - ETA: 1s - loss: 0.1306 - accuracy: 0.9563\n",
      "Epoch 00013: val_accuracy improved from 0.89571 to 0.90154, saving model to VGG16_model.best.hdf5\n",
      "125/125 [==============================] - 164s 1s/step - loss: 0.1308 - accuracy: 0.9562 - val_loss: 0.3538 - val_accuracy: 0.9015\n",
      "Epoch 14/20\n",
      "124/125 [============================>.] - ETA: 1s - loss: 0.1252 - accuracy: 0.9586\n",
      "Epoch 00014: val_accuracy did not improve from 0.90154\n",
      "125/125 [==============================] - 165s 1s/step - loss: 0.1256 - accuracy: 0.9584 - val_loss: 0.3645 - val_accuracy: 0.9010\n",
      "Epoch 15/20\n",
      "124/125 [============================>.] - ETA: 1s - loss: 0.1270 - accuracy: 0.9580\n",
      "Epoch 00015: val_accuracy improved from 0.90154 to 0.90736, saving model to VGG16_model.best.hdf5\n",
      "125/125 [==============================] - 160s 1s/step - loss: 0.1272 - accuracy: 0.9581 - val_loss: 0.3590 - val_accuracy: 0.9074\n",
      "Epoch 16/20\n",
      "124/125 [============================>.] - ETA: 1s - loss: 0.1156 - accuracy: 0.9644\n",
      "Epoch 00016: val_accuracy did not improve from 0.90736\n",
      "125/125 [==============================] - 168s 1s/step - loss: 0.1150 - accuracy: 0.9646 - val_loss: 0.4409 - val_accuracy: 0.8941\n",
      "Epoch 17/20\n",
      "124/125 [============================>.] - ETA: 1s - loss: 0.1101 - accuracy: 0.9627\n",
      "Epoch 00017: val_accuracy did not improve from 0.90736\n",
      "125/125 [==============================] - 170s 1s/step - loss: 0.1108 - accuracy: 0.9626 - val_loss: 0.4979 - val_accuracy: 0.8846\n",
      "Epoch 18/20\n",
      "124/125 [============================>.] - ETA: 1s - loss: 0.1009 - accuracy: 0.9682\n",
      "Epoch 00018: val_accuracy did not improve from 0.90736\n",
      "125/125 [==============================] - 170s 1s/step - loss: 0.1005 - accuracy: 0.9684 - val_loss: 0.4666 - val_accuracy: 0.9031\n",
      "Epoch 19/20\n",
      "124/125 [============================>.] - ETA: 1s - loss: 0.0983 - accuracy: 0.9681\n",
      "Epoch 00019: val_accuracy did not improve from 0.90736\n",
      "125/125 [==============================] - 172s 1s/step - loss: 0.0978 - accuracy: 0.9682 - val_loss: 0.4438 - val_accuracy: 0.8978\n",
      "Epoch 20/20\n",
      "124/125 [============================>.] - ETA: 1s - loss: 0.0901 - accuracy: 0.9713\n",
      "Epoch 00020: val_accuracy did not improve from 0.90736\n",
      "125/125 [==============================] - 171s 1s/step - loss: 0.0896 - accuracy: 0.9715 - val_loss: 0.4753 - val_accuracy: 0.8830\n"
     ]
    }
   ],
   "source": [
    "history_fine = model.fit(train_generator, \n",
    "                         epochs=20,\n",
    "                         validation_data=val_generator,\n",
    "                         callbacks=[checkpoint])"
   ]
  },
  {
   "cell_type": "code",
   "execution_count": 10,
   "metadata": {},
   "outputs": [
    {
     "data": {
      "text/plain": [
       "0.1668"
      ]
     },
     "execution_count": 10,
     "metadata": {},
     "output_type": "execute_result"
    }
   ],
   "source": [
    "import numpy as np\n",
    "val_generator.reset()\n",
    "Y_pred = model.predict_generator(val_generator)\n",
    "classes = val_generator.classes[val_generator.index_array]\n",
    "y_pred = np.argmax(Y_pred, axis=-1)\n",
    "sum(y_pred==classes)/10000"
   ]
  },
  {
   "cell_type": "code",
   "execution_count": 12,
   "metadata": {},
   "outputs": [
    {
     "data": {
      "text/plain": [
       "[4]"
      ]
     },
     "execution_count": 12,
     "metadata": {},
     "output_type": "execute_result"
    }
   ],
   "source": [
    "from tensorflow.keras.preprocessing.image import ImageDataGenerator, array_to_img, img_to_array, load_img\n",
    "\n",
    "img = load_img('vegetables_test/bibimbap/1001113.jpg',target_size=(224, 224))  # this is a PIL image\n",
    "x = img_to_array(img)  # this is a Numpy array with shape (3, 150, 150)\n",
    "x = x.reshape((1,) + x.shape)  # this is a Numpy array with shape (1, 3, 150, 150)\n",
    "prediction = model.predict(x)\n",
    "maximum = max(prediction[0])\n",
    "[i for i, j in enumerate(prediction[0]) if j == maximum]\n",
    "#print(prediction)"
   ]
  },
  {
   "cell_type": "code",
   "execution_count": 29,
   "metadata": {},
   "outputs": [],
   "source": [
    "keras_file = \"food_vgg16_model.h5\"\n",
    "tf.keras.models.save_model(model, keras_file)"
   ]
  },
  {
   "cell_type": "code",
   "execution_count": null,
   "metadata": {},
   "outputs": [],
   "source": []
  }
 ],
 "metadata": {
  "kernelspec": {
   "display_name": "tf_gpu_nightly",
   "language": "python",
   "name": "myenv"
  },
  "language_info": {
   "codemirror_mode": {
    "name": "ipython",
    "version": 3
   },
   "file_extension": ".py",
   "mimetype": "text/x-python",
   "name": "python",
   "nbconvert_exporter": "python",
   "pygments_lexer": "ipython3",
   "version": "3.6.8"
  }
 },
 "nbformat": 4,
 "nbformat_minor": 2
}
